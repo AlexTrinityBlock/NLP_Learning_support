{
 "cells": [
  {
   "cell_type": "code",
   "execution_count": 10,
   "metadata": {
    "collapsed": false
   },
   "outputs": [],
   "source": [
    "import gensim\n",
    "import pandas as pd"
   ]
  },
  {
   "cell_type": "code",
   "execution_count": 3,
   "metadata": {
    "collapsed": false
   },
   "outputs": [],
   "source": [
    "model = gensim.models.KeyedVectors.load_word2vec_format('D:\\\\word2vec\\\\GoogleNews-vectors-negative300.bin', binary=True)  "
   ]
  },
  {
   "cell_type": "code",
   "execution_count": 36,
   "metadata": {
    "collapsed": false
   },
   "outputs": [
    {
     "data": {
      "text/plain": [
       "[('An', 0.6835876703262329),\n",
       " ('The', 0.6258578300476074),\n",
       " ('Another', 0.600374162197113),\n",
       " ('_A', 0.5747292041778564),\n",
       " ('lA', 0.5280996561050415),\n",
       " ('AN', 0.5161314010620117),\n",
       " ('One', 0.5120341777801514),\n",
       " ('This', 0.5100695490837097),\n",
       " (\"What'sa\", 0.4947848916053772),\n",
       " ('nA', 0.4837765097618103)]"
      ]
     },
     "execution_count": 36,
     "metadata": {},
     "output_type": "execute_result"
    }
   ],
   "source": []
  },
  {
   "cell_type": "code",
   "execution_count": 34,
   "metadata": {
    "collapsed": false
   },
   "outputs": [
    {
     "data": {
      "text/plain": [
       "True"
      ]
     },
     "execution_count": 34,
     "metadata": {},
     "output_type": "execute_result"
    }
   ],
   "source": [
    "# CHeck if exist\n",
    "word = 'A'\n",
    "word in model.vocab"
   ]
  },
  {
   "cell_type": "code",
   "execution_count": 41,
   "metadata": {
    "collapsed": false
   },
   "outputs": [
    {
     "name": "stdout",
     "output_type": "stream",
     "text": [
      "taipei  not in vocab\n"
     ]
    },
    {
     "data": {
      "text/html": [
       "<div>\n",
       "<style>\n",
       "    .dataframe thead tr:only-child th {\n",
       "        text-align: right;\n",
       "    }\n",
       "\n",
       "    .dataframe thead th {\n",
       "        text-align: left;\n",
       "    }\n",
       "\n",
       "    .dataframe tbody tr th {\n",
       "        vertical-align: top;\n",
       "    }\n",
       "</style>\n",
       "<table border=\"1\" class=\"dataframe\">\n",
       "  <thead>\n",
       "    <tr style=\"text-align: right;\">\n",
       "      <th></th>\n",
       "      <th>dumpling</th>\n",
       "      <th>queen</th>\n",
       "      <th>taiwan</th>\n",
       "      <th>teacher</th>\n",
       "    </tr>\n",
       "  </thead>\n",
       "  <tbody>\n",
       "    <tr>\n",
       "      <th>0</th>\n",
       "      <td>dumplings</td>\n",
       "      <td>queens</td>\n",
       "      <td>asus</td>\n",
       "      <td>teachers</td>\n",
       "    </tr>\n",
       "    <tr>\n",
       "      <th>1</th>\n",
       "      <td>gyoza</td>\n",
       "      <td>princess</td>\n",
       "      <td>motorola</td>\n",
       "      <td>Teacher</td>\n",
       "    </tr>\n",
       "    <tr>\n",
       "      <th>2</th>\n",
       "      <td>beef_noodle_soup</td>\n",
       "      <td>king</td>\n",
       "      <td>hong_kong</td>\n",
       "      <td>guidance_counselor</td>\n",
       "    </tr>\n",
       "    <tr>\n",
       "      <th>3</th>\n",
       "      <td>steamed_bun</td>\n",
       "      <td>monarch</td>\n",
       "      <td>autodesk_autocad_architecture</td>\n",
       "      <td>elementary</td>\n",
       "    </tr>\n",
       "    <tr>\n",
       "      <th>4</th>\n",
       "      <td>steamed_buns</td>\n",
       "      <td>very_pampered_McElhatton</td>\n",
       "      <td>vpn</td>\n",
       "      <td>PE_teacher</td>\n",
       "    </tr>\n",
       "    <tr>\n",
       "      <th>5</th>\n",
       "      <td>noodles</td>\n",
       "      <td>Queen</td>\n",
       "      <td>beijing</td>\n",
       "      <td>schoolteacher</td>\n",
       "    </tr>\n",
       "    <tr>\n",
       "      <th>6</th>\n",
       "      <td>steamed_dumpling</td>\n",
       "      <td>NYC_anglophiles_aflutter</td>\n",
       "      <td>asia</td>\n",
       "      <td>school</td>\n",
       "    </tr>\n",
       "    <tr>\n",
       "      <th>7</th>\n",
       "      <td>noodle</td>\n",
       "      <td>Queen_Consort</td>\n",
       "      <td>india</td>\n",
       "      <td>pupil</td>\n",
       "    </tr>\n",
       "    <tr>\n",
       "      <th>8</th>\n",
       "      <td>baozi</td>\n",
       "      <td>princesses</td>\n",
       "      <td>singapore</td>\n",
       "      <td>student</td>\n",
       "    </tr>\n",
       "    <tr>\n",
       "      <th>9</th>\n",
       "      <td>manju</td>\n",
       "      <td>royal</td>\n",
       "      <td>ibm</td>\n",
       "      <td>paraprofessional</td>\n",
       "    </tr>\n",
       "  </tbody>\n",
       "</table>\n",
       "</div>"
      ],
      "text/plain": [
       "           dumpling                     queen                         taiwan  \\\n",
       "0         dumplings                    queens                           asus   \n",
       "1             gyoza                  princess                       motorola   \n",
       "2  beef_noodle_soup                      king                      hong_kong   \n",
       "3       steamed_bun                   monarch  autodesk_autocad_architecture   \n",
       "4      steamed_buns  very_pampered_McElhatton                            vpn   \n",
       "5           noodles                     Queen                        beijing   \n",
       "6  steamed_dumpling  NYC_anglophiles_aflutter                           asia   \n",
       "7            noodle             Queen_Consort                          india   \n",
       "8             baozi                princesses                      singapore   \n",
       "9             manju                     royal                            ibm   \n",
       "\n",
       "              teacher  \n",
       "0            teachers  \n",
       "1             Teacher  \n",
       "2  guidance_counselor  \n",
       "3          elementary  \n",
       "4          PE_teacher  \n",
       "5       schoolteacher  \n",
       "6              school  \n",
       "7               pupil  \n",
       "8             student  \n",
       "9    paraprofessional  "
      ]
     },
     "execution_count": 41,
     "metadata": {},
     "output_type": "execute_result"
    }
   ],
   "source": [
    "terms = ['taipei', 'queen', 'teacher', 'taiwan', 'dumpling']  ## 建立我們要查找的詞彙\n",
    "df = {}\n",
    "for t in terms:\n",
    "    if t in model.vocab:  ## 確認在訓練資療集當中是否有這個字，沒有這一步會出現錯誤\n",
    "        df[t] = [term for term, score in model.most_similar(t)]  ## 原本會回傳(term, score)的List，現在只抓term\n",
    "    else:\n",
    "        print(t, ' not in vocab')\n",
    "df = pd.DataFrame(df)\n",
    "df"
   ]
  },
  {
   "cell_type": "code",
   "execution_count": 42,
   "metadata": {
    "collapsed": false
   },
   "outputs": [
    {
     "name": "stdout",
     "output_type": "stream",
     "text": [
      ",dumpling,queen,taiwan,teacher\n",
      "0,dumplings,queens,asus,teachers\n",
      "1,gyoza,princess,motorola,Teacher\n",
      "2,beef_noodle_soup,king,hong_kong,guidance_counselor\n",
      "3,steamed_bun,monarch,autodesk_autocad_architecture,elementary\n",
      "4,steamed_buns,very_pampered_McElhatton,vpn,PE_teacher\n",
      "5,noodles,Queen,beijing,schoolteacher\n",
      "6,steamed_dumpling,NYC_anglophiles_aflutter,asia,school\n",
      "7,noodle,Queen_Consort,india,pupil\n",
      "8,baozi,princesses,singapore,student\n",
      "9,manju,royal,ibm,paraprofessional\n",
      "\n"
     ]
    }
   ],
   "source": [
    "print(df.to_csv())"
   ]
  },
  {
   "cell_type": "code",
   "execution_count": 9,
   "metadata": {
    "collapsed": false
   },
   "outputs": [
    {
     "data": {
      "text/plain": [
       "[('glenn_beck', 0.6669996976852417),\n",
       " ('nancy_pelosi', 0.6465221643447876),\n",
       " ('rangel', 0.6449544429779053),\n",
       " ('boehner', 0.6446892619132996),\n",
       " ('ron_paul', 0.6404014825820923),\n",
       " ('kanye_west', 0.63894122838974),\n",
       " ('george_bush', 0.6381559371948242),\n",
       " ('mmfa', 0.636208176612854),\n",
       " ('libtards', 0.6358290314674377),\n",
       " ('pelosi', 0.6356452703475952)]"
      ]
     },
     "execution_count": 9,
     "metadata": {},
     "output_type": "execute_result"
    }
   ],
   "source": [
    "sim_Soros"
   ]
  },
  {
   "cell_type": "code",
   "execution_count": 5,
   "metadata": {
    "collapsed": false
   },
   "outputs": [
    {
     "data": {
      "text/plain": [
       "array([ 0.00524902, -0.14355469, -0.06933594,  0.12353516,  0.13183594,\n",
       "       -0.08886719, -0.07128906, -0.21679688, -0.19726562,  0.05566406,\n",
       "       -0.07568359, -0.38085938,  0.10400391, -0.00081635,  0.1328125 ,\n",
       "        0.11279297,  0.07275391, -0.046875  ,  0.06591797,  0.09423828,\n",
       "        0.19042969,  0.13671875, -0.23632812, -0.11865234,  0.06542969,\n",
       "       -0.05322266, -0.30859375,  0.09179688,  0.18847656, -0.16699219,\n",
       "       -0.15625   , -0.13085938, -0.08251953,  0.21289062, -0.35546875,\n",
       "       -0.13183594,  0.09619141,  0.26367188, -0.09472656,  0.18359375,\n",
       "        0.10693359, -0.41601562,  0.26953125, -0.02770996,  0.17578125,\n",
       "       -0.11279297, -0.00411987,  0.14550781,  0.15625   ,  0.26757812,\n",
       "       -0.01794434,  0.09863281,  0.05297852, -0.03125   , -0.16308594,\n",
       "       -0.05810547, -0.34375   , -0.17285156,  0.11425781, -0.09033203,\n",
       "        0.13476562,  0.27929688, -0.04980469,  0.12988281,  0.17578125,\n",
       "       -0.22167969, -0.01190186,  0.140625  , -0.18164062,  0.11865234,\n",
       "        0.16113281,  0.21484375, -0.21191406,  0.12695312, -0.10009766,\n",
       "        0.13671875,  0.12695312,  0.01531982,  0.10449219, -0.02783203,\n",
       "       -0.06030273,  0.0222168 ,  0.18164062, -0.06738281,  0.04907227,\n",
       "        0.15429688, -0.25      ,  0.13964844,  0.29492188,  0.10644531,\n",
       "        0.3359375 , -0.22265625, -0.125     , -0.05297852,  0.19238281,\n",
       "        0.06835938,  0.06982422, -0.05200195,  0.14453125,  0.00448608,\n",
       "       -0.01013184, -0.1484375 ,  0.21777344, -0.1953125 , -0.390625  ,\n",
       "        0.07763672, -0.57421875, -0.07910156, -0.04052734, -0.1875    ,\n",
       "        0.25390625,  0.15722656,  0.125     ,  0.140625  ,  0.20117188,\n",
       "       -0.05859375,  0.16894531, -0.28125   ,  0.171875  ,  0.19140625,\n",
       "        0.12109375, -0.15039062, -0.00695801, -0.23730469,  0.13964844,\n",
       "       -0.00836182, -0.04711914,  0.14648438, -0.05688477,  0.10205078,\n",
       "        0.08447266,  0.21191406, -0.01831055,  0.50390625, -0.04858398,\n",
       "        0.22167969, -0.25585938,  0.03417969,  0.15820312, -0.03369141,\n",
       "        0.06738281, -0.25195312,  0.04614258, -0.07275391,  0.07958984,\n",
       "        0.04223633, -0.00128937,  0.20214844, -0.13085938, -0.06030273,\n",
       "        0.0378418 ,  0.13574219,  0.11181641, -0.24609375, -0.23925781,\n",
       "       -0.23632812, -0.04321289, -0.02905273,  0.23535156, -0.00390625,\n",
       "       -0.05029297,  0.18457031,  0.50390625, -0.00668335, -0.03466797,\n",
       "       -0.07568359,  0.06152344, -0.31445312, -0.03759766,  0.23632812,\n",
       "       -0.12792969,  0.15429688,  0.296875  ,  0.02709961, -0.17089844,\n",
       "       -0.22460938,  0.00241089,  0.10595703, -0.03320312,  0.0145874 ,\n",
       "       -0.21582031,  0.24707031, -0.07421875, -0.10205078,  0.16894531,\n",
       "       -0.05029297,  0.20800781, -0.03857422, -0.22265625,  0.27539062,\n",
       "       -0.05957031, -0.01757812,  0.01794434,  0.08886719,  0.12890625,\n",
       "        0.18261719,  0.14453125,  0.10400391, -0.1328125 , -0.32617188,\n",
       "        0.00386047, -0.11376953, -0.05053711, -0.13085938,  0.02209473,\n",
       "       -0.14648438,  0.10742188,  0.23046875,  0.15234375,  0.22753906,\n",
       "        0.04833984,  0.06787109, -0.06787109, -0.2578125 ,  0.11230469,\n",
       "        0.00363159, -0.12011719, -0.21289062,  0.11230469,  0.12158203,\n",
       "        0.06835938,  0.04907227,  0.2734375 , -0.00302124, -0.00378418,\n",
       "        0.00193787,  0.1875    , -0.29101562,  0.09033203,  0.26367188,\n",
       "       -0.25585938, -0.28710938, -0.40820312,  0.10546875,  0.39648438,\n",
       "       -0.07275391, -0.04321289, -0.06347656, -0.00060272, -0.11523438,\n",
       "        0.31445312, -0.22265625,  0.13574219, -0.01965332,  0.15332031,\n",
       "        0.00360107, -0.12011719,  0.06494141,  0.16210938, -0.16699219,\n",
       "        0.03271484, -0.00350952,  0.18847656,  0.19335938,  0.1328125 ,\n",
       "        0.06787109, -0.34179688, -0.08349609, -0.29492188, -0.02099609,\n",
       "        0.08886719,  0.32421875, -0.36914062, -0.0859375 , -0.04956055,\n",
       "        0.13183594,  0.04418945,  0.359375  ,  0.21484375,  0.265625  ,\n",
       "       -0.2734375 ,  0.23535156,  0.11425781,  0.08789062,  0.1875    ,\n",
       "       -0.33203125,  0.15136719, -0.03613281, -0.11914062,  0.27734375,\n",
       "        0.10839844, -0.07275391,  0.23242188,  0.00219727,  0.23828125,\n",
       "       -0.24902344, -0.12353516, -0.15917969, -0.00601196,  0.14550781,\n",
       "       -0.00460815, -0.22558594, -0.37890625, -0.37695312, -0.08251953,\n",
       "       -0.04125977,  0.16796875, -0.046875  ,  0.16308594,  0.15429688], dtype=float32)"
      ]
     },
     "execution_count": 5,
     "metadata": {},
     "output_type": "execute_result"
    }
   ],
   "source": [
    "model.word_vec('queen')"
   ]
  },
  {
   "cell_type": "code",
   "execution_count": null,
   "metadata": {
    "collapsed": true
   },
   "outputs": [],
   "source": []
  }
 ],
 "metadata": {
  "kernelspec": {
   "display_name": "Python 3",
   "language": "python",
   "name": "python3"
  },
  "language_info": {
   "codemirror_mode": {
    "name": "ipython",
    "version": 3
   },
   "file_extension": ".py",
   "mimetype": "text/x-python",
   "name": "python",
   "nbconvert_exporter": "python",
   "pygments_lexer": "ipython3",
   "version": "3.5.3"
  }
 },
 "nbformat": 4,
 "nbformat_minor": 2
}
