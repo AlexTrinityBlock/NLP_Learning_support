{
 "cells": [
  {
   "cell_type": "code",
   "execution_count": 1,
   "metadata": {
    "collapsed": false,
    "deletable": true,
    "editable": true
   },
   "outputs": [],
   "source": [
    "import pandas as pd\n",
    "import os"
   ]
  },
  {
   "cell_type": "code",
   "execution_count": 2,
   "metadata": {
    "collapsed": false,
    "deletable": true,
    "editable": true
   },
   "outputs": [],
   "source": [
    "files = os.listdir('articles')\n",
    "files = [os.path.join('articles', f) for f in files]\n",
    "df = pd.read_csv(files[-1])"
   ]
  },
  {
   "cell_type": "code",
   "execution_count": 3,
   "metadata": {
    "collapsed": false,
    "deletable": true,
    "editable": true
   },
   "outputs": [
    {
     "data": {
      "text/plain": [
       "article_url         1526\n",
       "group               1526\n",
       "like_count          1526\n",
       "corpus_title        1509\n",
       "corpus_day          1526\n",
       "article_title       1526\n",
       "writer_name         1526\n",
       "writer_url          1526\n",
       "publish_datetime    1526\n",
       "browse_count        1526\n",
       "text_content        1514\n",
       "h1                   358\n",
       "h2                   587\n",
       "h3                   366\n",
       "h4                   113\n",
       "h5                    18\n",
       "h6                    19\n",
       "crawled_date        1526\n",
       "dtype: int64"
      ]
     },
     "execution_count": 3,
     "metadata": {},
     "output_type": "execute_result"
    }
   ],
   "source": [
    "df.count()"
   ]
  },
  {
   "cell_type": "code",
   "execution_count": null,
   "metadata": {
    "collapsed": true,
    "deletable": true,
    "editable": true
   },
   "outputs": [],
   "source": []
  }
 ],
 "metadata": {
  "kernelspec": {
   "display_name": "Python 3",
   "language": "python",
   "name": "python3"
  },
  "language_info": {
   "codemirror_mode": {
    "name": "ipython",
    "version": 3
   },
   "file_extension": ".py",
   "mimetype": "text/x-python",
   "name": "python",
   "nbconvert_exporter": "python",
   "pygments_lexer": "ipython3",
   "version": "3.5.3"
  }
 },
 "nbformat": 4,
 "nbformat_minor": 2
}
